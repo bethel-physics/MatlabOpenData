{
 "cells": [
  {
   "cell_type": "markdown",
   "metadata": {},
   "source": [
    "# Particle Discovery Lab\n",
    "Welcome to the juptyer notebook for the Particle Discovery Lab! \n",
    "\n",
    "**Use Shift+Enter to execute a cell.**"
   ]
  },
  {
   "cell_type": "code",
   "execution_count": 1,
   "metadata": {
    "collapsed": true
   },
   "outputs": [],
   "source": [
    "import math, pickle\n",
    "import matplotlib.pyplot as plt\n",
    "import numpy as np\n",
    "from scipy.optimize import curve_fit\n",
    "from scipy.stats import norm\n",
    "import pollsf"
   ]
  },
  {
   "cell_type": "code",
   "execution_count": 2,
   "metadata": {
    "collapsed": true
   },
   "outputs": [],
   "source": [
    "# Open the data file provided by your instructor\n",
    "data = pickle.load(open('DoubleMuParked_100k.pkl','rb'))"
   ]
  },
  {
   "cell_type": "markdown",
   "metadata": {},
   "source": [
    "## Day 1 : Reconstruction\n",
    "\n",
    "Your first task is to load the CMS data file!\n",
    "Each data element has 8 pieces of information:\n",
    "\n",
    "`E1`, `E2`, `px1`, `px2`, `py1`, `py2`, `pz1`, `pz2`\n",
    "\n",
    "First choose a number of events to process, and the boundaries of your analysis window:"
   ]
  },
  {
   "cell_type": "code",
   "execution_count": 3,
   "metadata": {},
   "outputs": [
    {
     "name": "stdout",
     "output_type": "stream",
     "text": [
      "How many events to process? 100000\n"
     ]
    }
   ],
   "source": [
    "Ntoprocess = int(raw_input(\"How many events to process? \"))"
   ]
  },
  {
   "cell_type": "code",
   "execution_count": 4,
   "metadata": {},
   "outputs": [
    {
     "name": "stdout",
     "output_type": "stream",
     "text": [
      "Type in your min (in GeV): 2.8\n"
     ]
    }
   ],
   "source": [
    "Min = float(raw_input(\"Type in your min (in GeV): \"))"
   ]
  },
  {
   "cell_type": "code",
   "execution_count": 5,
   "metadata": {},
   "outputs": [
    {
     "name": "stdout",
     "output_type": "stream",
     "text": [
      "Type in your max (in GeV): 3.5\n"
     ]
    }
   ],
   "source": [
    "Max = float(raw_input(\"Type in your max (in GeV): \"))"
   ]
  },
  {
   "cell_type": "code",
   "execution_count": 6,
   "metadata": {},
   "outputs": [
    {
     "name": "stdout",
     "output_type": "stream",
     "text": [
      "How many x-axis bins would you like? 50\n"
     ]
    }
   ],
   "source": [
    "n = int(raw_input(\"How many x-axis bins would you like? \"))"
   ]
  },
  {
   "cell_type": "code",
   "execution_count": 7,
   "metadata": {
    "collapsed": true
   },
   "outputs": [],
   "source": [
    "# Use these to compute a bin width\n",
    "BinWidth = (Max - Min)/n\n",
    "\n",
    "# let's get some empty objects ready for later\n",
    "Masses = []\n",
    "KineticEnergy = []"
   ]
  },
  {
   "cell_type": "markdown",
   "metadata": {},
   "source": [
    "Now we're ready to loop over the events in the data file and calculate the invariant mass of particle X. \n",
    "\n",
    "### Think: \n",
    " * How will you use the 8 pieces of information to calculate the mass of X?\n",
    " * How can you save only the events with a mass value inside your window?\n",
    " * How can you calculate the relativistic kinetic energy of particle X? \n",
    " \n",
    "Write code to calculate the mass and KE of particle X. Store the results in Masses and KineticEnergy if the event has a mass inside your window."
   ]
  },
  {
   "cell_type": "code",
   "execution_count": 8,
   "metadata": {},
   "outputs": [
    {
     "name": "stdout",
     "output_type": "stream",
     "text": [
      "Looping over 100000 events...\n",
      "Done!\n"
     ]
    }
   ],
   "source": [
    "print \"Looping over\",Ntoprocess,\"events...\"\n",
    "for i in range(Ntoprocess):\n",
    "    \n",
    "    ## COMPUTE the mass of particle X that decays to 2 muons\n",
    "    \n",
    "    E = data[i][0] + data[i][1]  ## conserve E\n",
    "    Px = data[i][2] + data[i][3] ## conserve px\n",
    "    Py = data[i][4] + data[i][5] ## conserve py\n",
    "    Pz = data[i][6] + data[i][7] ## conserve pz\n",
    "    \n",
    "    ## Invariant mass from E^2 = M^2 + |p|^2   (using natural units with c = 1!)\n",
    "    M = math.sqrt(E**2 - Px**2 - Py**2 - Pz**2) \n",
    "    \n",
    "    if M > Min and M < Max:\n",
    "        Masses.append(M.real)\n",
    "        \n",
    "        KE = E - M  ## relativistic KE the easy way!\n",
    "        KineticEnergy.append(KE)\n",
    "        \n",
    "print \"Done!\""
   ]
  },
  {
   "cell_type": "markdown",
   "metadata": {},
   "source": [
    "### HISTOGRAMMING -- create mass and KE histograms              \n",
    "\n",
    "#### THINK: \n",
    " * What do you expect your kinetic energy histogram to look like?                   \n",
    " * What do you expect your mass histogram to look like?                             \n",
    "\n",
    "Make a quick sketch of what you expect for both plots                            \n",
    "                                                                                         \n",
    "#### Vocab: imagine plot with 3 bins on x-axis: 0-10, 10-20, 20-30                           \n",
    " * \"Bin edges\": 0, 10, 20, 30                                                              \n",
    " * \"Bin centers\": 5, 15, 25 (want dots on plot to be here!)                                \n",
    " * \"Bin width\": 10  (you already have this for mass)\n",
    " \n",
    "#### Tools: plt.hist\n",
    "plt.hist creates histograms when given a list of data, number of bins, and x-axis range. Look up its arguments and outputs!\n",
    "\n",
    "Create a MASS histogram:"
   ]
  },
  {
   "cell_type": "code",
   "execution_count": 9,
   "metadata": {},
   "outputs": [
    {
     "data": {
      "image/png": "[encoded data removed]",
      "text/plain": [
       "<matplotlib.figure.Figure at 0x7f99d025c0d0>"
      ]
     },
     "metadata": {},
     "output_type": "display_data"
    }
   ],
   "source": [
    "plt.figure()\n",
    "massCounts, massEdges, patches = plt.hist(Masses,n,(Min,Max),histtype='step') ## want to keep the y-axis values \n",
    "plt.xlabel('dimuon mass (GeV)')\n",
    "plt.ylabel('number of events')\n",
    "plt.show()"
   ]
  },
  {
   "cell_type": "markdown",
   "metadata": {},
   "source": [
    "#### THINK: \n",
    " * What should the ERROR BARS be for each bin?                                      \n",
    " * What should you do if the bin has ZERO entries?  \n",
    " \n",
    "#### Tools:   plt.errorbar: \n",
    "\n",
    "plt.errorbar draws dots+bars when given x-axis bin centers, y-axis values, and up/down uncertainties. Look up its drawing options!                                                                                      "
   ]
  },
  {
   "cell_type": "code",
   "execution_count": 10,
   "metadata": {},
   "outputs": [
    {
     "data": {
      "image/png": "[encoded data removed]",
      "text/plain": [
       "<matplotlib.figure.Figure at 0x7f99d02d00d0>"
      ]
     },
     "metadata": {},
     "output_type": "display_data"
    }
   ],
   "source": [
    "# Calculate the uncertainties\n",
    "error = [[],[]]\n",
    "error[0] = np.sqrt(massCounts)\n",
    "error[1] = np.maximum(np.sqrt(massCounts),np.ones(len(massCounts)))\n",
    "\n",
    "# Define an array of bin centers\n",
    "massCenters = massEdges+BinWidth*0.5\n",
    "massCenters = massCenters[:-1] # cut off the extra at the end\n",
    "\n",
    "# Draw the new plot with error bars (k is black)\n",
    "plt.errorbar(massCenters, massCounts, yerr=error, fmt='.k',ecolor='k')\n",
    "plt.xlabel('dimuon mass (GeV)')\n",
    "plt.ylabel('number of muon pairs')\n",
    "plt.show()"
   ]
  },
  {
   "cell_type": "markdown",
   "metadata": {},
   "source": [
    " #### Draw another HISTOGRAM with error bars of counts vs kinetic energy"
   ]
  },
  {
   "cell_type": "code",
   "execution_count": 11,
   "metadata": {},
   "outputs": [
    {
     "data": {
      "image/png": "[encoded data removed]",
      "text/plain": [
       "<matplotlib.figure.Figure at 0x7f9998e12410>"
      ]
     },
     "metadata": {},
     "output_type": "display_data"
    }
   ],
   "source": [
    "plt.figure()\n",
    "keCounts, keEdges, patches = plt.hist(KineticEnergy,n,(0,800),histtype='step',log=True) ## want to keep the y-axis values \n",
    "\n",
    "# Calculate the uncertainties\n",
    "keerror = [[],[]]\n",
    "keerror[0] = np.sqrt(keCounts)\n",
    "keerror[1] = np.maximum(np.sqrt(keCounts),np.ones(len(keCounts)))\n",
    "\n",
    "# Define an array of bin centers\n",
    "keCenters = keEdges+(800/n)*0.5\n",
    "keCenters = keCenters[:-1] # cut off the extra at the end\n",
    "\n",
    "# Draw the new plot with error bars (k is black)\n",
    "plt.errorbar(keCenters, keCounts, yerr=keerror, fmt='.k',ecolor='k')\n",
    "plt.xlabel('dimuon mass (GeV)')\n",
    "plt.ylabel('number of muon pairs')\n",
    "plt.show()"
   ]
  },
  {
   "cell_type": "markdown",
   "metadata": {},
   "source": [
    "#### Great work! \n",
    "Save these plots to represent your raw data in your report. If you're using a jupyter notebook, save and checkpoint the notebook here. "
   ]
  },
  {
   "cell_type": "markdown",
   "metadata": {},
   "source": [
    "## Day 2: Fitting\n",
    "Fit the background on either side of the signal peak in your mass distribution. \n",
    "\n",
    "#### Vocab: imagine a mass plot with a bump in the middle\n",
    " * \"Peak window\": region along x-axis under the peak\n",
    " * \"background\": smoothly falling slope of random events, including some of the events in the peak window\n",
    " * \"signal\": events in the peak window minus the background"
   ]
  },
  {
   "cell_type": "code",
   "execution_count": 12,
   "metadata": {},
   "outputs": [
    {
     "name": "stdout",
     "output_type": "stream",
     "text": [
      "Enter your peak minimum (in GeV)2.93\n"
     ]
    }
   ],
   "source": [
    "# Choose mass values or bin numbers for where the peak lies\n",
    "peakmin = float(input('Enter your peak minimum (in GeV)'))"
   ]
  },
  {
   "cell_type": "code",
   "execution_count": 13,
   "metadata": {},
   "outputs": [
    {
     "name": "stdout",
     "output_type": "stream",
     "text": [
      "Enter your peak maximum (in GeV) 3.3\n"
     ]
    }
   ],
   "source": [
    "peakmax = float(input('Enter your peak maximum (in GeV) '))"
   ]
  },
  {
   "cell_type": "code",
   "execution_count": 14,
   "metadata": {},
   "outputs": [
    {
     "name": "stdout",
     "output_type": "stream",
     "text": [
      "9 36\n"
     ]
    }
   ],
   "source": [
    "# Convert these mass values to bin numbers\n",
    "iMin = int(round((peakmin-Min)/BinWidth))\n",
    "iMax = int(round((peakmax-Min)/BinWidth))\n",
    "print iMin,iMax"
   ]
  },
  {
   "cell_type": "code",
   "execution_count": 15,
   "metadata": {},
   "outputs": [
    {
     "name": "stdout",
     "output_type": "stream",
     "text": [
      "23 22 22 22\n"
     ]
    }
   ],
   "source": [
    "# REMOVE the peak window completely from your list of: \n",
    "# mass edges, mass centers, mass counts, mass uncertainties. \n",
    "# This forms your BACKGROUND dataset\n",
    "bkgEdges = massEdges[0:iMin].tolist() + massEdges[iMax:-1].tolist()\n",
    "bkgCounts = massCounts[0:iMin].tolist() + massCounts[iMax:-1].tolist()\n",
    "bkgCenters = massCenters[0:iMin].tolist() + massCenters[iMax:-1].tolist()\n",
    "bkgError = [[],[]]\n",
    "bkgError[0] = error[0][0:iMin].tolist() + error[0][iMax:-1].tolist()\n",
    "bkgError[1] = error[1][0:iMin].tolist() + error[1][iMax:-1].tolist()\n",
    "\n",
    "# Check: edges should have 1 more than the others\n",
    "print len(bkgEdges),len(bkgCounts),len(bkgCenters),len(bkgError[0])"
   ]
  },
  {
   "cell_type": "markdown",
   "metadata": {},
   "source": [
    "#### PERFORM a polynominal fit to the background\n",
    "#### THINK: \n",
    "Which type of curve do you expect will match your data best? Imagine a curve connecting the two sides under your peak.\n",
    "\n",
    "*SOLUTION: Probably a line, or 2rd/3rd order poly, likely not much higher*\n",
    "\n",
    "#### Tool: \n",
    "The function *pollsf* gives fit params, uncerts, y-values, chi^2 value. Needs bin centers, counts, uncertainties, M parameters in the polynominal.\n",
    "\n",
    "#### EVALUATE your fit:\n",
    " * Plotting: does the shape make any sense? \n",
    " * Chi^2 is defined in Eq. 29. It describes the difference between the points and the fitted curve. LARGER chi^2 tends to mean more difference or scatter of points.\n",
    " * OPTIMALLY, Chi^2 / (# points - # parameters) is around 1\n",
    "\n",
    "#### REPEAT fitting until you are satisfied"
   ]
  },
  {
   "cell_type": "code",
   "execution_count": 16,
   "metadata": {},
   "outputs": [
    {
     "name": "stdout",
     "output_type": "stream",
     "text": [
      "How many polynomial parameters? 1 (flat), 2 (line), etc: 2\n",
      "0.1302956900130389\n"
     ]
    }
   ],
   "source": [
    "# Use pollsf to fit a polynomial\n",
    "numpars = int(input('How many polynomial parameters? 1 (flat), 2 (line), etc: '))\n",
    "params,paramerrs,fityvals,chisq = pollsf.pollsf(bkgCenters,bkgCounts,bkgError[1],numpars)\n",
    "\n",
    "# Print the chi2 metric\n",
    "print chisq/(len(bkgCenters) - numpars)"
   ]
  },
  {
   "cell_type": "code",
   "execution_count": 17,
   "metadata": {},
   "outputs": [
    {
     "data": {
      "image/png": "[encoded data removed]",
      "text/plain": [
       "<matplotlib.figure.Figure at 0x7f99961c7c10>"
      ]
     },
     "metadata": {},
     "output_type": "display_data"
    }
   ],
   "source": [
    "# Plot the fit on top of the background points\n",
    "plt.figure()\n",
    "plt.errorbar(bkgCenters, bkgCounts, yerr=bkgError, fmt='.k', ecolor='k')\n",
    "plt.plot(bkgCenters,fityvals,'b-')\n",
    "plt.xlabel('dimuon mass (GeV)')\n",
    "plt.ylabel('number of muon pairs')\n",
    "plt.show()"
   ]
  },
  {
   "cell_type": "markdown",
   "metadata": {},
   "source": [
    "### SUBTRACTION -- now you will subtract that background from data\n",
    "#### THINK: \n",
    "How will you estimate background in the signal peak window? What do you expect the curve to look like after bkg subtraction?\n",
    "\n",
    "*SOLUTION: evaluate the function at x-values inside the peak window. After subtraction should look like a ~Gaussian peak*"
   ]
  },
  {
   "cell_type": "code",
   "execution_count": 18,
   "metadata": {},
   "outputs": [
    {
     "data": {
      "image/png": "[encoded data removed]",
      "text/plain": [
       "<matplotlib.figure.Figure at 0x7f99966743d0>"
      ]
     },
     "metadata": {},
     "output_type": "display_data"
    }
   ],
   "source": [
    "# Draw your background estimate on top of your full mass distribution\n",
    "paramlist = params.tolist()\n",
    "paramlist.reverse() # polyval wants a flipped order of parameters\n",
    "fittedCounts = np.polyval(paramlist,massCenters)\n",
    "\n",
    "plt.figure()\n",
    "plt.errorbar(massCenters, massCounts, yerr=error, fmt='.k', ecolor='k')\n",
    "plt.plot(massCenters,fittedCounts,'b-')\n",
    "plt.xlabel('dimuon mass (GeV)')\n",
    "plt.ylabel('number of muon pairs')\n",
    "plt.show()"
   ]
  },
  {
   "cell_type": "markdown",
   "metadata": {},
   "source": [
    "#### THINK: \n",
    "Are your estimated bkg values at all uncertain? How could you evaluate an uncertainty on the number of background events in each bin?\n",
    "\n",
    "*SOLUTION: Yes, of course! But we have not discussed covariance, so we won't attempt to use the fitted parameters' uncertainties. You could estimate an uncertainty of 0, or use the Poisson sqrt(N) formula as shown here.*  \n",
    "\n",
    "#### EVALUATE signal = data - background\n",
    "#### THINK: \n",
    "What should you do if the background estimate is > data? How could you find the uncertainty in data - background?\n",
    "\n",
    "*SOLUTION: values less than 0 are not unphysical anymore, since this is an \"estimate\". Uncertainty must be propagated: sqrt(errData^2 + errBkg^2)*"
   ]
  },
  {
   "cell_type": "code",
   "execution_count": 19,
   "metadata": {},
   "outputs": [
    {
     "data": {
      "image/png": "[encoded data removed]",
      "text/plain": [
       "<matplotlib.figure.Figure at 0x7f9996142910>"
      ]
     },
     "metadata": {},
     "output_type": "display_data"
    }
   ],
   "source": [
    "# Subtract background and plot the resulting signal with error bars\n",
    "signalCounts = massCounts - fittedCounts\n",
    "signalErrors = [[],[]]\n",
    "signalErrors[0] = np.sqrt(signalCounts + fittedCounts)\n",
    "signalErrors[1] = np.maximum(np.sqrt(signalCounts + fittedCounts),np.ones(len(signalCounts)))\n",
    "\n",
    "plt.errorbar(massCenters,signalCounts,yerr=signalErrors,fmt='.r',ecolor='r')\n",
    "plt.show()"
   ]
  },
  {
   "cell_type": "markdown",
   "metadata": {},
   "source": [
    "#### Great work!\n",
    "Save the data+background and signal-only plots for the analysis section of your report. "
   ]
  },
  {
   "cell_type": "markdown",
   "metadata": {},
   "source": [
    "## Day 3: Characterization\n",
    "Determine which particle you've discovered and use a fit to find its properties. \n",
    "\n",
    "#### EXTRACT the characteristics of your signal peak\n",
    "#### THINK: \n",
    "Which statistical distribution describes your signal peak?\n",
    "\n",
    "#### Tools: \n",
    " * A Gaussian function *Gaus* has been defined below. It takes x-axis values, an amplitude, a mean, and a width.\n",
    " * The *curve_fit* function returns lists of fitted parameters and uncertainties when given a fit function, x and y-axis values, and initial conditions for the function's parameters.\n",
    " \n",
    "*SOLUTION: they should do well with a Gaussian shape. The initial conditions can be basic like p0=[1, (eyeballed peak center), 0.5]*"
   ]
  },
  {
   "cell_type": "code",
   "execution_count": 20,
   "metadata": {
    "collapsed": true
   },
   "outputs": [],
   "source": [
    "def Gaus(x,amplitude,mean,sigma):\n",
    "    return amplitude*np.exp(-(x-mean)**2/(2*sigma**2))"
   ]
  },
  {
   "cell_type": "code",
   "execution_count": 21,
   "metadata": {},
   "outputs": [
    {
     "name": "stdout",
     "output_type": "stream",
     "text": [
      "[1.15827109e+03 3.09258102e+00 3.34987321e-02]\n"
     ]
    }
   ],
   "source": [
    "# Use curve_fit to fit your signal peak using Gaus\n",
    "gausParams,gausUncerts = curve_fit(Gaus,massCenters,signalCounts,p0=[1,3,0.1])\n",
    "print gausParams"
   ]
  },
  {
   "cell_type": "code",
   "execution_count": 22,
   "metadata": {},
   "outputs": [
    {
     "data": {
      "image/png": "[encoded data removed]",
      "text/plain": [
       "<matplotlib.figure.Figure at 0x7f99967a3390>"
      ]
     },
     "metadata": {},
     "output_type": "display_data"
    }
   ],
   "source": [
    "# Plot the fitted function on top of your signal distribution \n",
    "# (tip: use many more x-axis values for smoothness!)\n",
    "xGaus = np.linspace(Min,Max,501).tolist()\n",
    "\n",
    "plt.figure()\n",
    "plt.errorbar(massCenters, signalCounts, yerr=signalErrors, fmt='r.',ecolor='r')\n",
    "plt.plot(xGaus, Gaus(xGaus,*gausParams), 'b')\n",
    "plt.show()"
   ]
  },
  {
   "cell_type": "code",
   "execution_count": 23,
   "metadata": {},
   "outputs": [
    {
     "name": "stdout",
     "output_type": "stream",
     "text": [
      "Mean = 3.092581023347232 +/- 4.054599557679579e-07\n",
      "Width = 0.033498732089463606 +/- 4.0545994496380807e-07\n"
     ]
    }
   ],
   "source": [
    "# Print out the mean and width of your curve with uncertainties\n",
    "print \"Mean =\",gausParams[1],\"+/-\",gausUncerts[1][1]\n",
    "print \"Width =\",abs(gausParams[2]),\"+/-\",gausUncerts[2][2]"
   ]
  },
  {
   "cell_type": "markdown",
   "metadata": {},
   "source": [
    "#### COMPARE: NSignal in signal peak to NBackground under the peak region\n",
    "#### THINK: \n",
    "How can you find the number of events in the signal peak? How can you find the number of bkg events under the peak?\n",
    "\n",
    "#### PRINT: these values along with their uncertainties\n",
    "\n",
    "*SOLUTION: NSignal = sum up counts from \"sig counts\". NBackground = sum up counts from \"fittedcounts\" (iMin to iMax). Of course, the groups are free to integrate their 2 fitted functions from peakmin to peakmax! They should be able to show that sqrt(sumtotal) is the proper error propagation across the sum over bins.*"
   ]
  },
  {
   "cell_type": "code",
   "execution_count": 24,
   "metadata": {},
   "outputs": [
    {
     "name": "stdout",
     "output_type": "stream",
     "text": [
      "NBkg = 1494.2782270644566 +/- 38.655895114\n",
      "NSig = 7374.721772935543 +/- 85.8762002707\n"
     ]
    }
   ],
   "source": [
    "bkginpeak = sum(fittedCounts[iMin:iMax])\n",
    "siginpeak = sum(signalCounts[iMin:iMax])\n",
    "print 'NBkg =',bkginpeak,'+/-',math.sqrt(bkginpeak)\n",
    "print 'NSig =',siginpeak,'+/-',math.sqrt(siginpeak)"
   ]
  },
  {
   "cell_type": "markdown",
   "metadata": {},
   "source": [
    "#### Almost done!\n",
    "#### THINK: \n",
    " * Can you statistically distinguish signal from background?\n",
    " * Can you find this particle with a web search for you mass?\n",
    "\n",
    "Research this particle (pdg.gov), find its width (capital Gamma). \n",
    " * Do your mass & width agree with the known values? \n",
    " * Find percent differences and also discrepancy/significance. \n",
    " * If your width is *much* larger than accepted, why might this be?\n",
    " \n",
    "*SOLUTION: for the Z boson their values should agree well -- mass should agree at least within +/- width! For light mesons they will find that the width they measure is much much too large, because of limited detector resolution. The lifetimes of these mesons can't be determined from this mass plot.*"
   ]
  }
 ],
 "metadata": {
  "kernelspec": {
   "display_name": "Python 2",
   "language": "python",
   "name": "python2"
  },
  "language_info": {
   "codemirror_mode": {
    "name": "ipython",
    "version": 2
   },
   "file_extension": ".py",
   "mimetype": "text/x-python",
   "name": "python",
   "nbconvert_exporter": "python",
   "pygments_lexer": "ipython2",
   "version": "2.7.5"
  }
 },
 "nbformat": 4,
 "nbformat_minor": 2
}
