{
 "cells": [
  {
   "cell_type": "markdown",
   "metadata": {},
   "source": [
    "# Particle Discovery Lab\n",
    "Welcome to the juptyer notebook for the Particle Discovery Lab! \n",
    "\n",
    "**Use Shift+Enter to execute a cell.**\n",
    "\n",
    "Your first task is to load the CMS data file!"
   ]
  },
  {
   "cell_type": "code",
   "execution_count": null,
   "metadata": {},
   "outputs": [],
   "source": [
    "import math, pickle\n",
    "import matplotlib.pyplot as plt\n",
    "import statistics as stat\n",
    "import numpy as np\n",
    "from scipy.optimize import curve_fit\n",
    "from scipy.stats import norm\n",
    "\n",
    "# Open the data file provided by your instructor\n",
    "data = pickle.load(open('DoubleMuParked_100k.pkl','rb'))"
   ]
  },
  {
   "cell_type": "markdown",
   "metadata": {},
   "source": [
    "## Part 1 : Reconstruction\n",
    "\n",
    "Each element of `data` contains 8 pieces of information in this order:\n",
    "\n",
    "`E1`, `E2`, `px1`, `px2`, `py1`, `py2`, `pz1`, `pz2`\n",
    "\n",
    "(where \"1\" refers to \"muon 1\" and \"2\" refers to \"muon 2\"). The default unit for these numerical values is the GeV.\n",
    "\n",
    "First choose a number of events to process, and the boundaries of your analysis window:"
   ]
  },
  {
   "cell_type": "code",
   "execution_count": null,
   "metadata": {},
   "outputs": [
    {
     "name": "stdout",
     "output_type": "stream",
     "text": [
      "How many events to process? 100000\n"
     ]
    }
   ],
   "source": [
    "Ntoprocess = int(input(\"How many events to process? \"))"
   ]
  },
  {
   "cell_type": "code",
   "execution_count": null,
   "metadata": {},
   "outputs": [
    {
     "name": "stdout",
     "output_type": "stream",
     "text": [
      "Type in your min (in GeV): 2.8\n"
     ]
    }
   ],
   "source": [
    "Min = float(input(\"Type in your min (in GeV): \"))"
   ]
  },
  {
   "cell_type": "code",
   "execution_count": null,
   "metadata": {},
   "outputs": [
    {
     "name": "stdout",
     "output_type": "stream",
     "text": [
      "Type in your max (in GeV): 3.5\n"
     ]
    }
   ],
   "source": [
    "Max = float(input(\"Type in your max (in GeV): \"))"
   ]
  },
  {
   "cell_type": "code",
   "execution_count": null,
   "metadata": {},
   "outputs": [
    {
     "name": "stdout",
     "output_type": "stream",
     "text": [
      "How many x-axis bins would you like? 50\n"
     ]
    }
   ],
   "source": [
    "n = int(input(\"How many x-axis bins would you like? \"))"
   ]
  },
  {
   "cell_type": "code",
   "execution_count": null,
   "metadata": {},
   "outputs": [],
   "source": [
    "# Use these to compute a bin width\n",
    "BinWidth = (Max - Min)/n\n",
    "\n",
    "# let's get some empty objects ready for later\n",
    "Masses = []\n",
    "KineticEnergy = []"
   ]
  },
  {
   "cell_type": "markdown",
   "metadata": {},
   "source": [
    "Now we're ready to loop over the events in the data file and calculate the invariant mass of particle X. \n",
    "\n",
    "### Think: \n",
    " * How will you use the 8 pieces of information to calculate the mass of X?\n",
    " * How can you save only the events with a mass value inside your window?\n",
    " * How can you calculate the relativistic kinetic energy of particle X? \n",
    " \n",
    "Write code to calculate the mass and KE of particle X. Store the results in Masses and KineticEnergy if the event has a mass inside your window."
   ]
  },
  {
   "cell_type": "code",
   "execution_count": null,
   "metadata": {},
   "outputs": [
    {
     "name": "stdout",
     "output_type": "stream",
     "text": [
      "Looping over 100000 events...\n",
      "Done!\n"
     ]
    }
   ],
   "source": [
    "print (\"Looping over\",Ntoprocess,\"events...\")\n",
    "for i in range(Ntoprocess):\n",
    "    \n",
    "    ## COMPUTE the mass of particle X that decays to 2 muons\n",
    "    ## Recall, the order of information stored in the list called data is given above.\n",
    "    ## The energy of muon number 1 can be accessed like data[i][1].\n",
    "    \n",
    "    E = data[i][0] + data[i][1]  ## conserve E\n",
    "    Px = data[i][2] + data[i][3] ## conserve px\n",
    "    Py = data[i][4] + data[i][5] ## conserve py\n",
    "    Pz = data[i][6] + data[i][7] ## conserve pz\n",
    "    \n",
    "    ## Store mass and KE for events with mass inside your window\n",
    "    ## Invariant mass from E^2 = M^2 + |p|^2   (using natural units with c = 1!)\n",
    "    ## Tip: make sure your mass value is \"real\" by using .real after the mass\n",
    "    M = math.sqrt(E**2 - Px**2 - Py**2 - Pz**2) \n",
    "    \n",
    "    if M > Min and M < Max:\n",
    "        Masses.append(M.real)\n",
    "        \n",
    "        KE = E - M  ## relativistic KE the easy way!\n",
    "        KineticEnergy.append(KE)\n",
    "        \n",
    "print (\"Done!\")"
   ]
  },
  {
   "cell_type": "markdown",
   "metadata": {},
   "source": [
    "### HISTOGRAMMING -- create mass and KE histograms              \n",
    "\n",
    "#### THINK: \n",
    " * What do you expect your kinetic energy histogram to look like?                   \n",
    " * What do you expect your mass histogram to look like?                             \n",
    "\n",
    "Make a quick sketch of what you expect for both plots            \n",
    "\n",
    "SOLUTION: higher energies are always less probable, so falling from 0. Mass is similar: falling from low -> high, but with a bump\n",
    "                                                                                         \n",
    "#### Vocab: imagine plot with 3 bins on x-axis: 0-10, 10-20, 20-30                           \n",
    " * \"Bin edges\": 0, 10, 20, 30                                                              \n",
    " * \"Bin centers\": 5, 15, 25 (want dots on plot to be here!)                                \n",
    " * \"Bin counts\": the height of the histogram bar in each bin\n",
    " \n",
    "#### Tools: plt.hist\n",
    "plt.hist creates histograms when given a list of data and number of bins.  Look up its arguments and outputs!\n",
    "\n",
    "Create a MASS histogram by filling in the empty functions below when prompted to do so:"
   ]
  },
  {
   "cell_type": "code",
   "execution_count": null,
   "metadata": {},
   "outputs": [],
   "source": [
    "# Draw your mass histogram. Use plt.show() to draw your plot. \n",
    "# Be sure to save your y-axis values! \n",
    "plt.figure()\n",
    "massCounts, massEdges, patches = plt.hist(Masses,n,histtype='step') ## want to keep the y-axis values \n",
    "plt.xlabel('dimuon mass (GeV)')\n",
    "plt.ylabel('number of events')\n",
    "plt.show()"
   ]
  },
  {
   "cell_type": "markdown",
   "metadata": {},
   "source": [
    "#### THINK: \n",
    " * What should the ERROR BARS be for each bin?                                      \n",
    " * What should you do if the bin has ZERO entries?  \n",
    "\n",
    " SOLUTION: Error on N = sqrt(N)\n",
    "           \n",
    "Zero is not exact! Just lack of data. Use error_up = 1 (or dig deeper and talk about Poisson upper bound on 0!).\n",
    "But error bars shouldn't dip below 0 here, that would be unphysical.\n",
    " \n",
    "#### Tools:   plt.errorbar: \n",
    "\n",
    "plt.errorbar draws dots+bars when given x-axis bin centers, y-axis bin counts, and up/down uncertainties. Look up its [command options](https://matplotlib.org/stable/gallery/statistics/errorbar_features)                                                                                      "
   ]
  },
  {
   "cell_type": "code",
   "execution_count": null,
   "metadata": {},
   "outputs": [
    {
     "data": {
      "image/png": "[encoded data removed]",
      "text/plain": [
       "<Figure size 432x288 with 1 Axes>"
      ]
     },
     "metadata": {
      "needs_background": "light"
     },
     "output_type": "display_data"
    }
   ],
   "source": [
    "# Calculate lists of uncertainty values for plt.errorbar\n",
    "error = [[],[]]\n",
    "error[0] = np.sqrt(massCounts)\n",
    "error[1] = np.maximum(np.sqrt(massCounts),np.ones(len(massCounts)))\n",
    "\n",
    "# Define an array of bin centers\n",
    "massCenters = massEdges+BinWidth*0.5\n",
    "massCenters = massCenters[:-1] # Remove the last element in the array\n",
    "\n",
    "# Draw the new plot with error bars\n",
    "plt.errorbar(massCenters, massCounts, yerr=error, fmt='.k',ecolor='k')\n",
    "plt.xlabel('dimuon mass (GeV)')\n",
    "plt.ylabel('number of muon pairs')\n",
    "plt.show()"
   ]
  },
  {
   "cell_type": "markdown",
   "metadata": {},
   "source": [
    " #### Draw another HISTOGRAM with error bars of counts vs kinetic energy"
   ]
  },
  {
   "cell_type": "code",
   "execution_count": null,
   "metadata": {},
   "outputs": [
    {
     "data": {
      "image/png": "[encoded data removed]",
      "text/plain": [
       "<Figure size 432x288 with 1 Axes>"
      ]
     },
     "metadata": {
      "needs_background": "light"
     },
     "output_type": "display_data"
    }
   ],
   "source": [
    "# Get the y-axis values by drawing a new KE histogram\n",
    "plt.figure()\n",
    "keCounts, keEdges, patches = plt.hist(KineticEnergy,n,(0,800),histtype='step',log=True) ## want to keep the y-axis values \n",
    "\n",
    "# Calculate lists of uncertainty values for plt.errorbar\n",
    "keerror = [[],[]]\n",
    "keerror[0] = np.sqrt(keCounts)\n",
    "keerror[1] = np.maximum(np.sqrt(keCounts),np.ones(len(keCounts)))\n",
    "\n",
    "# Define an array of bin centers\n",
    "keCenters = keEdges+(800/n)*0.5\n",
    "keCenters = keCenters[:-1] # Remove the last element in the array\n",
    "\n",
    "# Draw the new plot with error bars\n",
    "plt.errorbar(keCenters, keCounts, yerr=keerror, fmt='.k',ecolor='k')\n",
    "plt.xlabel('kinetic energy (GeV)')\n",
    "plt.ylabel('number of muon pairs')\n",
    "plt.show()"
   ]
  },
  {
   "cell_type": "markdown",
   "metadata": {},
   "source": [
    "#### Great work! \n",
    "Save these plots to represent your raw data in your report. If you're using a jupyter notebook, save the notebook here. "
   ]
  },
  {
   "cell_type": "markdown",
   "metadata": {},
   "source": [
    "## Part 2 : Background Estimation\n",
    "Fit the background on either side of the signal peak in your mass distribution. \n",
    "\n",
    "#### Vocab: imagine a mass plot with a bump in the middle\n",
    " * \"Peak window\": region along x-axis under the peak\n",
    " * \"background\": smoothly falling slope of random events, including some of the events in the peak window\n",
    " * \"signal\": events in the peak window minus the background"
   ]
  },
  {
   "cell_type": "code",
   "execution_count": null,
   "metadata": {},
   "outputs": [
    {
     "name": "stdout",
     "output_type": "stream",
     "text": [
      "Enter your peak minimum (in GeV)2.93\n"
     ]
    }
   ],
   "source": [
    "# Choose mass values or bin numbers for where the peak lies\n",
    "peakmin = float(input('Enter your peak minimum (in GeV)'))"
   ]
  },
  {
   "cell_type": "code",
   "execution_count": null,
   "metadata": {},
   "outputs": [
    {
     "name": "stdout",
     "output_type": "stream",
     "text": [
      "Enter your peak maximum (in GeV) 3.3\n"
     ]
    }
   ],
   "source": [
    "peakmax = float(input('Enter your peak maximum (in GeV) '))"
   ]
  },
  {
   "cell_type": "code",
   "execution_count": null,
   "metadata": {},
   "outputs": [
    {
     "name": "stdout",
     "output_type": "stream",
     "text": [
      "9 36\n"
     ]
    }
   ],
   "source": [
    "# Convert these mass values to bin numbers\n",
    "iMin = int(round((peakmin-Min)/BinWidth)) # Just an example: fine to hardcode numbers\n",
    "iMax = int(round((peakmax-Min)/BinWidth))\n",
    "print (iMin,iMax)"
   ]
  },
  {
   "cell_type": "markdown",
   "metadata": {},
   "source": [
    "#### PERFORM a line fit to the background\n",
    "#### THINK: \n",
    "Imagine a line connecting the data on either side of your peak. How could you estimate the function of that line?"
   ]
  },
  {
   "cell_type": "code",
   "execution_count": null,
   "metadata": {},
   "outputs": [],
   "source": [
    "# Using data points from the left and right sides of your mass histograms, evaluate a linear function to represent the background events underneath the peak. \n",
    "# Recall, the function of a line is y = mx + b \n",
    "avgleft = [stat.mean(massCenters[0:int(n * 0.1)]), stat.mean(massCounts[0:int(n * 0.1)])]\n",
    "avgright = [stat.mean(massCenters[int(n * 0.9):-1]), stat.mean(massCounts[int(n * 0.9):-1])]\n",
    "m = (avgright[1] - avgleft[1])/(avgright[0] - avgleft[0])\n",
    "b = -(m * avgleft[0]) + avgleft[1]"
   ]
  },
  {
   "cell_type": "code",
   "execution_count": null,
   "metadata": {},
   "outputs": [
    {
     "data": {
      "image/png": "[encoded data removed]",
      "text/plain": [
       "<Figure size 432x288 with 1 Axes>"
      ]
     },
     "metadata": {
      "needs_background": "light"
     },
     "output_type": "display_data"
    }
   ],
   "source": [
    "# Plot your background curve on top of your mass histogram\n",
    "fittedCounts = list(np.array(massCenters) * m)\n",
    "fittedCounts = [z+b for z in fittedCounts]\n",
    "\n",
    "plt.figure()\n",
    "plt.errorbar(massCenters, massCounts, yerr=error, fmt='.k', ecolor='k')\n",
    "plt.plot(massCenters,fittedCounts,'b-')\n",
    "plt.xlabel('dimuon mass (GeV)')\n",
    "plt.ylabel('number of muon pairs')\n",
    "plt.show()"
   ]
  },
  {
   "cell_type": "markdown",
   "metadata": {},
   "source": [
    "### SUBTRACTION -- now you will subtract that background from data\n",
    "\n",
    "#### THINK: \n",
    "Are your estimated bkg values at all uncertain? \n",
    "\n",
    "How could you evaluate an uncertainty on the number of background events in each bin?\n",
    "\n",
    "*SOLUTION: Yes, of course! But we have not discussed covariance and will make the ~safe assumption that our background uncert is small. The pollsf function chooses to return only variances, but you could edit it to return the whole matrix, or you could estimate an uncertainty of 0, or use the Poisson sqrt(N) formula as shown here.*  \n",
    "\n",
    "What do you expect the curve to look like after background subtraction?\n",
    "\n",
    "*SOLUTION: After subtraction should look like a ~Gaussian peak*\n",
    "\n",
    "#### EVALUATE signal = data - background\n",
    "#### THINK: \n",
    "Do you have any bins where the background estimate is larger than the data? What do you think about this situation? \n",
    "\n",
    "How could you find the uncertainty in data - background?\n",
    "\n",
    "*SOLUTION: values less than 0 are not unphysical anymore, since this is an \"estimate\". Values less than 0 can happen when subtracting background, it's no longer necessarily unphysical. Uncertainty is like radioactivity: err = sqrt(errData^2 + errBkg^2), NOT sqrt after subtracting! You could estimate errBkg = 0, or assume Poisson and say errBkg = sqrt(N)*"
   ]
  },
  {
   "cell_type": "code",
   "execution_count": null,
   "metadata": {},
   "outputs": [
    {
     "data": {
      "image/png": "[encoded data removed]",
      "text/plain": [
       "<Figure size 432x288 with 1 Axes>"
      ]
     },
     "metadata": {
      "needs_background": "light"
     },
     "output_type": "display_data"
    }
   ],
   "source": [
    "# Subtract background and plot the resulting signal-only peak with error bars\n",
    "signalCounts = massCounts - fittedCounts\n",
    "signalErrors = [[],[]]\n",
    "signalErrors[0] = np.sqrt(signalCounts + fittedCounts)\n",
    "signalErrors[1] = np.maximum(np.sqrt(signalCounts + fittedCounts),np.ones(len(signalCounts)))\n",
    "\n",
    "plt.errorbar(massCenters,signalCounts,yerr=signalErrors,fmt='.r',ecolor='r')\n",
    "plt.xlabel('dimuon mass (GeV)')\n",
    "plt.ylabel('number of events')\n",
    "plt.show()"
   ]
  },
  {
   "cell_type": "markdown",
   "metadata": {},
   "source": [
    "#### Great work!\n",
    "Save the data+background and signal-only plots for the analysis section of your report. "
   ]
  },
  {
   "cell_type": "markdown",
   "metadata": {},
   "source": [
    "## Part 3 : Characterization\n",
    "Determine which particle you've discovered and use a fit to find its properties. \n",
    "\n",
    "#### EXTRACT the characteristics of your signal peak\n",
    "#### THINK: \n",
    "Which statistical distribution describes your signal peak?\n",
    "\n",
    "*SOLUTION: they should do well with a Gaussian shape. The initial conditions can be basic like p0=[1, (eyeballed peak center), 0.5]*\n",
    "\n",
    "#### Tools: \n",
    " * A Gaussian function *Gaus* has been defined below:\n",
    "    * Inputs: x (list of x-axis values), amplitude, mean, sigma (parameters of a Gaussian distribution)\n",
    "    * Outputs: list of y-axis values corresponding to the Gaussian curve\n",
    " * The *curve_fit* function:\n",
    "    * Outputs: it returns lists of fitted parameters and uncertainties\n",
    "    * Inputs: it is given a fit function, x and y-axis values, and initial conditions for the function's parameters\n",
    "    * Usage Example: gausParams,gausUncerts = curve_fit(fit function, x, y, initial conditions)\n",
    "    * Read about how to use this function at [scipy.org](https://docs.scipy.org/doc/scipy/reference/generated/scipy.optimize.curve_fit.html)"
   ]
  },
  {
   "cell_type": "code",
   "execution_count": null,
   "metadata": {},
   "outputs": [],
   "source": [
    "def Gaus(x,amplitude,mean,sigma):\n",
    "    return amplitude*np.exp(-(x-mean)**2/(2*sigma**2))"
   ]
  },
  {
   "cell_type": "markdown",
   "metadata": {},
   "source": [
    "Looking at your mass histogram, guess the inital conditions of the Gaussian distribution that would destribe your signal peak.  \n",
    "You will need to guess the amplipitude, the mean, and the standard deviation."
   ]
  },
  {
   "cell_type": "code",
   "execution_count": null,
   "metadata": {},
   "outputs": [
    {
     "name": "stdout",
     "output_type": "stream",
     "text": [
      "[ 1.15675669e+03  3.09256436e+00 -3.33747482e-02]\n"
     ]
    }
   ],
   "source": [
    "initialguess = [1,3,0.1]\n",
    "\n",
    "# Use curve_fit to fit your signal peak using Gaus as the fit function\n",
    "gausParams,gausUncerts = curve_fit(Gaus,massCenters,signalCounts,initialguess) \n",
    "print (gausParams)"
   ]
  },
  {
   "cell_type": "code",
   "execution_count": null,
   "metadata": {},
   "outputs": [
    {
     "data": {
      "image/png": "[encoded data removed]",
      "text/plain": [
       "<Figure size 432x288 with 1 Axes>"
      ]
     },
     "metadata": {
      "needs_background": "light"
     },
     "output_type": "display_data"
    }
   ],
   "source": [
    "# Plot the fitted function on top of your signal distribution \n",
    "# xGaus below gives you lots of x-axis points to plot a smooth curve\n",
    "xGaus = np.linspace(Min,Max,501).tolist()\n",
    "\n",
    "plt.figure()\n",
    "plt.errorbar(massCenters, signalCounts, yerr=signalErrors, fmt='r.',ecolor='r')\n",
    "plt.plot(xGaus, Gaus(xGaus,*gausParams), 'b')\n",
    "plt.xlabel('dimuon mass (GeV)')\n",
    "plt.ylabel('number of events')\n",
    "plt.title('Fitted signal')\n",
    "plt.show()"
   ]
  },
  {
   "cell_type": "code",
   "execution_count": null,
   "metadata": {},
   "outputs": [
    {
     "name": "stdout",
     "output_type": "stream",
     "text": [
      "Mean = 3.0925643630974324 +/- 3.9149780099378537e-07\n",
      "Width = 0.03337474822540622 +/- 3.9149779959535367e-07\n"
     ]
    }
   ],
   "source": [
    "# Print out the mean and width of your fitted curve with uncertainties\n",
    "# SOLUTION: they need to access specific elements of paramsGaus and covariance. The 2nd element is the mean and the 3rd element is the width.\n",
    "print (\"Mean =\",gausParams[1],\"+/-\",gausUncerts[1][1])\n",
    "print (\"Width =\",abs(gausParams[2]),\"+/-\",gausUncerts[2][2])"
   ]
  },
  {
   "cell_type": "markdown",
   "metadata": {},
   "source": [
    "#### COMPARE: the number of signal events in signal peak window to the number of background events under the peak window.\n",
    "#### THINK: \n",
    "How can you find the number of events in the signal peak? \n",
    "\n",
    "How can you find the number of bkg events under the peak?\n",
    "\n",
    "#### PRINT: these values along with their uncertainties\n",
    "\n",
    "*SOLUTION: NSignal = sum up counts from \"sig counts\". NBackground = sum up counts from \"fittedcounts\" (iMin to iMax). Of course, the groups are free to integrate their 2 fitted functions from peakmin to peakmax! For uncertainties, they should be able to show that sqrt(sumtotal) is really what you get from propagation of sqrt(N) errors through the sum.*"
   ]
  },
  {
   "cell_type": "code",
   "execution_count": null,
   "metadata": {},
   "outputs": [
    {
     "name": "stdout",
     "output_type": "stream",
     "text": [
      "NBkg = 1569.7011235955063 +/- 39.61945385281713\n",
      "NSig = 7299.298876404492 +/- 85.43593433915551\n"
     ]
    }
   ],
   "source": [
    "# Print signal and background counts with uncertainties\n",
    "bkginpeak = sum(fittedCounts[iMin:iMax])\n",
    "siginpeak = sum(signalCounts[iMin:iMax])\n",
    "print ('NBkg =',bkginpeak,'+/-',math.sqrt(bkginpeak))\n",
    "print ('NSig =',siginpeak,'+/-',math.sqrt(siginpeak))"
   ]
  },
  {
   "cell_type": "markdown",
   "metadata": {},
   "source": [
    "#### Almost done!\n",
    "#### THINK: \n",
    " * Can you statistically distinguish signal from background?\n",
    " * Can you find this particle with a web search for you mass?\n",
    "\n",
    "Research this [particle](https://pdg.lbl.gov), find its width (capital Gamma). \n",
    " * Do your mass & width agree with the known values? \n",
    " * Find percent differences and also discrepancy/significance. \n",
    " * If your width is *much* larger than accepted, why might this be?\n",
    " \n",
    "*SOLUTION: Generally their masses should agree within the observed widths, and usually within a few times the parameter uncertainty. For Z bosons (short-lived) the width should also agree because it is large (several GeV). For the mesons their width will be MUCH too large -- the CMS detector resolution is not fine enough to measure the lifetime of these particles and the width is inflated.* \n"
   ]
  },
  {
   "cell_type": "markdown",
   "metadata": {},
   "source": []
  }
 ],
 "metadata": {
  "kernelspec": {
   "display_name": "Python 3 (ipykernel)",
   "language": "python",
   "name": "python3"
  },
  "language_info": {
   "codemirror_mode": {
    "name": "ipython",
    "version": 3
   },
   "file_extension": ".py",
   "mimetype": "text/x-python",
   "name": "python",
   "nbconvert_exporter": "python",
   "pygments_lexer": "ipython3",
   "version": "3.9.7"
  },
  "vscode": {
   "interpreter": {
    "hash": "aee8b7b246df8f9039afb4144a1f6fd8d2ca17a180786b69acc140d282b71a49"
   }
  }
 },
 "nbformat": 4,
 "nbformat_minor": 2
}
