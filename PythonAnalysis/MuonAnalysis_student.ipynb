{
 "cells": [
  {
   "cell_type": "markdown",
   "metadata": {},
   "source": [
    "# Particle Discovery Lab\n",
    "Welcome to the juptyer notebook for the Particle Discovery Lab! \n",
    "\n",
    "**Use Shift+Enter to execute a cell.**"
   ]
  },
  {
   "cell_type": "code",
   "execution_count": null,
   "metadata": {
    "collapsed": true
   },
   "outputs": [],
   "source": [
    "import math, pickle\n",
    "import matplotlib.pyplot as plt\n",
    "import numpy as np\n",
    "from scipy.optimize import curve_fit\n",
    "from scipy.stats import norm\n",
    "import pollsf"
   ]
  },
  {
   "cell_type": "code",
   "execution_count": null,
   "metadata": {
    "collapsed": true
   },
   "outputs": [],
   "source": [
    "# Open the data file provided by your instructor\n",
    "data = pickle.load(open('DoubleMuParked_100k.pkl','rb'))"
   ]
  },
  {
   "cell_type": "markdown",
   "metadata": {},
   "source": [
    "## Day 1 : Reconstruction\n",
    "\n",
    "Your first task is to load the CMS data file!\n",
    "Each data element has 8 pieces of information:\n",
    "\n",
    "`E1`, `E2`, `px1`, `px2`, `py1`, `py2`, `pz1`, `pz2`\n",
    "\n",
    "First choose a number of events to process, and the boundaries of your analysis window:"
   ]
  },
  {
   "cell_type": "code",
   "execution_count": null,
   "metadata": {
    "collapsed": true
   },
   "outputs": [],
   "source": [
    "Ntoprocess = int(raw_input(\"How many events to process? \"))"
   ]
  },
  {
   "cell_type": "code",
   "execution_count": null,
   "metadata": {
    "collapsed": true
   },
   "outputs": [],
   "source": [
    "Min = float(raw_input(\"Type in your min (in GeV): \"))"
   ]
  },
  {
   "cell_type": "code",
   "execution_count": null,
   "metadata": {
    "collapsed": true
   },
   "outputs": [],
   "source": [
    "Max = float(raw_input(\"Type in your max (in GeV): \"))"
   ]
  },
  {
   "cell_type": "code",
   "execution_count": null,
   "metadata": {
    "collapsed": true
   },
   "outputs": [],
   "source": [
    "n = int(raw_input(\"How many x-axis bins would you like? \"))"
   ]
  },
  {
   "cell_type": "code",
   "execution_count": null,
   "metadata": {
    "collapsed": true
   },
   "outputs": [],
   "source": [
    "# Use these to compute a bin width\n",
    "BinWidth = (Max - Min)/n\n",
    "\n",
    "# let's get some empty objects ready for later\n",
    "Masses = []\n",
    "KineticEnergy = []"
   ]
  },
  {
   "cell_type": "markdown",
   "metadata": {},
   "source": [
    "Now we're ready to loop over the events in the data file and calculate the invariant mass of particle X. \n",
    "\n",
    "### Think: \n",
    " * How will you use the 8 pieces of information to calculate the mass of X?\n",
    " * How can you save only the events with a mass value inside your window?\n",
    " * How can you calculate the relativistic kinetic energy of particle X? \n",
    " \n",
    "Write code to calculate the mass and KE of particle X. Store the results in Masses and KineticEnergy if the event has a mass inside your window."
   ]
  },
  {
   "cell_type": "code",
   "execution_count": null,
   "metadata": {
    "collapsed": true
   },
   "outputs": [],
   "source": [
    "print \"Looping over\",Ntoprocess,\"events...\"\n",
    "for i in range(Ntoprocess):\n",
    "    \n",
    "    ## COMPUTE the mass of particle X that decays to 2 muons\n",
    "    \n",
    "    \n",
    "    \n",
    "    M =\n",
    "\n",
    "    ## Store mass and KE for events with mass inside your window\n",
    "    \n",
    "    if M > Min and M < Max:\n",
    "        Masses.append(M.real)\n",
    "        \n",
    "        KE =\n",
    "        KineticEnergy.append(KE)\n",
    "        \n",
    "print \"Done!\""
   ]
  },
  {
   "cell_type": "markdown",
   "metadata": {},
   "source": [
    "### HISTOGRAMMING -- create mass and KE histograms              \n",
    "\n",
    "#### THINK: \n",
    " * What do you expect your kinetic energy histogram to look like?                   \n",
    " * What do you expect your mass histogram to look like?                             \n",
    "\n",
    "Make a quick sketch of what you expect for both plots                            \n",
    "                                                                                         \n",
    "#### Vocab: imagine plot with 3 bins on x-axis: 0-10, 10-20, 20-30                           \n",
    " * \"Bin edges\": 0, 10, 20, 30                                                              \n",
    " * \"Bin centers\": 5, 15, 25 (want dots on plot to be here!)                                \n",
    " * \"Bin width\": 10  (you already have this for mass)\n",
    " \n",
    "#### Tools: plt.hist\n",
    "plt.hist creates histograms when given a list of data, number of bins, and x-axis range. Look up its arguments and outputs!\n",
    "\n",
    "Create a MASS histogram:"
   ]
  },
  {
   "cell_type": "code",
   "execution_count": null,
   "metadata": {
    "collapsed": true
   },
   "outputs": [],
   "source": [
    "# Draw your mass histogram. Use plt.show() to draw your plot. \n",
    "# Be sure to save your y-axis values! \n",
    "plt.figure()\n",
    "massCounts, massEdges, patches = plt.hist()\n",
    "plt.xlabel('')\n",
    "plt.ylabel('')\n",
    "plt.show()"
   ]
  },
  {
   "cell_type": "markdown",
   "metadata": {},
   "source": [
    "#### THINK: \n",
    " * What should the ERROR BARS be for each bin?                                      \n",
    " * What should you do if the bin has ZERO entries?  \n",
    " \n",
    "#### Tools:   plt.errorbar: \n",
    "\n",
    "plt.errorbar draws dots+bars when given x-axis bin centers, y-axis values, and up/down uncertainties. Look up its [command options](https://matplotlib.org/stable/gallery/statistics/errorbar_features)                                                                                      "
   ]
  },
  {
   "cell_type": "code",
   "execution_count": null,
   "metadata": {
    "collapsed": true
   },
   "outputs": [],
   "source": [
    "# Calculate lists of uncertainty values for plt.errorbar\n",
    "error = [[],[]]\n",
    "error[0] =\n",
    "error[1] =\n",
    "\n",
    "# Define an array of bin centers\n",
    "\n",
    "massCenters =\n",
    "massCenters = massCenters[:-1]\n",
    "\n",
    "# Draw the new plot with error bars\n",
    "\n",
    "\n",
    "plt.xlabel('')\n",
    "plt.ylabel('')\n",
    "plt.show()"
   ]
  },
  {
   "cell_type": "markdown",
   "metadata": {},
   "source": [
    " #### Draw another HISTOGRAM with error bars of counts vs kinetic energy"
   ]
  },
  {
   "cell_type": "code",
   "execution_count": null,
   "metadata": {
    "collapsed": true
   },
   "outputs": [],
   "source": [
    "plt.figure()\n",
    "# Get the y-axis values by drawing a new KE histogram\n",
    "\n",
    "# Calculate lists of uncertainty values for plt.errorbar\n",
    "keerror = [[],[]]\n",
    "keerror[0] =\n",
    "keerror[1] =\n",
    "\n",
    "# Define an array of bin centers\n",
    "\n",
    "keCenters =\n",
    "keCenters = keCenters[:-1]\n",
    "\n",
    "# Draw the new plot with error bars\n",
    "\n",
    "plt.xlabel('')\n",
    "plt.ylabel('')\n",
    "plt.show()"
   ]
  },
  {
   "cell_type": "markdown",
   "metadata": {},
   "source": [
    "#### Great work! \n",
    "Save these plots to represent your raw data in your report. If you're using a jupyter notebook, save and checkpoint the notebook here. "
   ]
  },
  {
   "cell_type": "markdown",
   "metadata": {},
   "source": [
    "## Day 2 : Fitting\n",
    "Fit the background on either side of the signal peak in your mass distribution. \n",
    "\n",
    "#### Vocab: imagine a mass plot with a bump in the middle\n",
    " * \"Peak window\": region along x-axis under the peak\n",
    " * \"background\": smoothly falling slope of random events, including some of the events in the peak window\n",
    " * \"signal\": events in the peak window minus the background"
   ]
  },
  {
   "cell_type": "code",
   "execution_count": null,
   "metadata": {
    "collapsed": true
   },
   "outputs": [],
   "source": [
    "# Choose mass values or bin numbers for where the peak lies\n",
    "peakmin = float(input('Enter your peak minimum (in GeV)'))"
   ]
  },
  {
   "cell_type": "code",
   "execution_count": null,
   "metadata": {
    "collapsed": true
   },
   "outputs": [],
   "source": [
    "peakmax = float(input('Enter your peak maximum (in GeV) '))"
   ]
  },
  {
   "cell_type": "code",
   "execution_count": null,
   "metadata": {
    "collapsed": true
   },
   "outputs": [],
   "source": [
    "# Convert these mass values to bin numbers\n"
   ]
  },
  {
   "cell_type": "code",
   "execution_count": null,
   "metadata": {
    "collapsed": true
   },
   "outputs": [],
   "source": [
    "# REMOVE the peak window completely from your list of: \n",
    "# mass bin centers, mass counts, and mass uncertainties. \n",
    "# This forms your BACKGROUND dataset\n",
    "\n",
    "bkgCenters =\n",
    "bkgCounts =\n",
    "bkgError = [[],[]]\n",
    "bkgError[0] =\n",
    "bkgError[1] =\n",
    "\n",
    "print len(bkgCounts),len(bkgCenters),len(bkgError[0])\n"
   ]
  },
  {
   "cell_type": "markdown",
   "metadata": {},
   "source": [
    "#### PERFORM a polynominal fit to the background\n",
    "#### THINK: \n",
    "Which type of curve do you expect will match your data best? Imagine a curve connecting the two sides under your peak.\n",
    "\n",
    "#### Tool: \n",
    "The function *pollsf* is defined locally in pollsf.py.  Read pollsf.py to find information on the input and output parameters.\n",
    "\n",
    "#### EVALUATE your fit:\n",
    " * Plotting: does the shape make any sense? \n",
    " * Chi^2 is defined on [Wikipedia](https://en.wikipedia.org/wiki/Reduced_chi-squared_statistic). It describes the difference between the points and the fitted curve. LARGER chi^2 tends to mean more difference or scatter of points.\n",
    " * OPTIMALLY, Chi^2 / (# points - # parameters) is around 1\n",
    "\n",
    "#### REPEAT fitting until you are satisfied with both of these metrics"
   ]
  },
  {
   "cell_type": "code",
   "execution_count": null,
   "metadata": {
    "collapsed": true
   },
   "outputs": [],
   "source": [
    "# Use pollsf to fit a polynomial\n",
    "numpars = int(input('How many polynomial parameters? 1 (flat), 2 (line), etc: '))\n",
    "\n",
    "# Print the chi2 metric described above\n",
    "\n",
    "# Plot the fit on top of the background points\n",
    "# Avoid using connecting lines between the points in your background fit\n",
    "plt.figure()\n",
    "\n",
    "\n",
    "\n",
    "\n",
    "plt.xlabel('')\n",
    "plt.ylabel('')\n",
    "plt.show()"
   ]
  },
  {
   "cell_type": "markdown",
   "metadata": {},
   "source": [
    "### SUBTRACTION -- now you will subtract that background from data\n",
    "\n",
    "In order to subtract the background contribution from your orginal data, you will need to estimate the background in your signal peak window.\n",
    "\n",
    "#### THINK: \n",
    "How will you estimate background in the signal peak window?"
   ]
  },
  {
   "cell_type": "code",
   "execution_count": null,
   "metadata": {
    "collapsed": true
   },
   "outputs": [],
   "source": [
    "# Plot your background curve on top of your mass histogram\n",
    "\n",
    "\n",
    "\n",
    "plt.figure()\n",
    "\n",
    "\n",
    "\n",
    "\n",
    "plt.xlabel('')\n",
    "plt.ylabel('')\n",
    "plt.show()"
   ]
  },
  {
   "cell_type": "markdown",
   "metadata": {},
   "source": [
    "#### THINK: \n",
    "Are your estimated bkg values at all uncertain? \n",
    "\n",
    "How could you evaluate an uncertainty on the number of background events in each bin?\n",
    "\n",
    "What do you expect the curve to look like after background subtraction?\n",
    "\n",
    "#### EVALUATE signal = data - background\n",
    "#### THINK: \n",
    "Do you have any bins where the background estimate is larger than the data? What do you think about this situation? \n",
    "\n",
    "How could you find the uncertainty in data - background?"
   ]
  },
  {
   "cell_type": "code",
   "execution_count": null,
   "metadata": {
    "collapsed": true
   },
   "outputs": [],
   "source": [
    "# Subtract background and plot the resulting signal-only peak with error bars\n",
    "signalCounts =\n",
    "signalErrors = [[],[]]\n",
    "signalErrors[0] =\n",
    "signalErrors[1] =\n",
    "\n",
    "\n",
    "\n",
    "plt.xlabel('')\n",
    "plt.ylabel('')\n",
    "plt.show()"
   ]
  },
  {
   "cell_type": "markdown",
   "metadata": {},
   "source": [
    "#### Great work!\n",
    "Save the data+background and signal-only plots for the analysis section of your report. "
   ]
  },
  {
   "cell_type": "markdown",
   "metadata": {},
   "source": [
    "## Day 3 : Characterization\n",
    "Determine which particle you've discovered and use a fit to find its properties. \n",
    "\n",
    "#### EXTRACT the characteristics of your signal peak\n",
    "#### THINK: \n",
    "Which statistical distribution describes your signal peak?\n",
    "\n",
    "#### Tools: \n",
    " * A Gaussian function *Gaus* has been defined below:\n",
    "    * Inputs: x (list of x-axis values), amplitude, mean, sigma (parameters of a Gaussian distribution)\n",
    "    * Outputs: list of y-axis values corresponding to the Gaussian curve\n",
    " * The *curve_fit* function:\n",
    "    * Outputs: it returns lists of fitted parameters and uncertainties\n",
    "    * Inputs: it is given a fit function, x and y-axis values, and initial conditions for the function's parameters\n",
    "    * Usage Example: gausParams,gausUncerts = curve_fit(fit function, x, y, initial conditions)\n",
    "    * Read about how to use this function at [scipy.org](https://docs.scipy.org/doc/scipy/reference/generated/scipy.optimize.curve_fit.html)\n",
    " "
   ]
  },
  {
   "cell_type": "code",
   "execution_count": null,
   "metadata": {
    "collapsed": true
   },
   "outputs": [],
   "source": [
    "def Gaus(x,amplitude,mean,sigma):\n",
    "    return amplitude*np.exp(-(x-mean)**2/(2*sigma**2))"
   ]
  },
  {
   "cell_type": "code",
   "execution_count": null,
   "metadata": {
    "collapsed": true
   },
   "outputs": [],
   "source": [
    "# Use curve_fit to fit your signal peak using Gaus as the fit function\n",
    "\n",
    "# Plot the fitted function on top of your signal distribution \n",
    "# xGaus below gives you lots of x-axis points to plot a smooth curve\n",
    "xGaus = np.linspace(Min,Max,501).tolist()\n",
    "\n",
    "plt.figure()\n",
    "\n",
    "\n",
    "\n",
    "plt.xlabel('')\n",
    "plt.ylabel('')\n",
    "plt.show()\n",
    "\n",
    "# Print out the mean and width of your curve with uncertainties\n"
   ]
  },
  {
   "cell_type": "markdown",
   "metadata": {},
   "source": [
    "#### COMPARE: the number of signal events in signal peak window to the number of background events under the peak window.\n",
    "#### THINK: \n",
    "How can you find the number of events in the signal peak? \n",
    "\n",
    "How can you find the number of bkg events under the peak?\n",
    "\n",
    "#### PRINT: these values along with their uncertainties"
   ]
  },
  {
   "cell_type": "code",
   "execution_count": null,
   "metadata": {
    "collapsed": true
   },
   "outputs": [],
   "source": [
    "# Print signal and background counts with uncertainties\n"
   ]
  },
  {
   "cell_type": "markdown",
   "metadata": {},
   "source": [
    "#### Almost done!\n",
    "#### THINK: \n",
    " * Can you statistically distinguish signal from background?\n",
    " * Can you find this particle with a web search for you mass?\n",
    "\n",
    "Research this [particle](https://pdg.lbl.gov), find its width (capital Gamma). \n",
    " * Do your mass & width agree with the known values? \n",
    " * Find percent differences and also discrepancy/significance. \n",
    " * If your width is *much* larger than accepted, why might this be?"
   ]
  }
 ],
 "metadata": {
  "kernelspec": {
   "display_name": "Python 2",
   "language": "python",
   "name": "python2"
  },
  "language_info": {
   "codemirror_mode": {
    "name": "ipython",
    "version": 2
   },
   "file_extension": ".py",
   "mimetype": "text/x-python",
   "name": "python",
   "nbconvert_exporter": "python",
   "pygments_lexer": "ipython2",
   "version": "2.7.5"
  }
 },
 "nbformat": 4,
 "nbformat_minor": 2
}
